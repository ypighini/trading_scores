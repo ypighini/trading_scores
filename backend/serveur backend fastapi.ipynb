{
 "cells": [
  {
   "cell_type": "code",
   "execution_count": 1,
   "id": "1a5d62d5-3be3-4fae-9f89-b5a7b5ae7874",
   "metadata": {},
   "outputs": [
    {
     "name": "stdout",
     "output_type": "stream",
     "text": [
      "Collecting fastapi\n",
      "  Downloading fastapi-0.116.1-py3-none-any.whl.metadata (28 kB)\n",
      "Collecting uvicorn\n",
      "  Downloading uvicorn-0.35.0-py3-none-any.whl.metadata (6.5 kB)\n",
      "Requirement already satisfied: psycopg2-binary in c:\\users\\yanni\\appdata\\local\\programs\\python\\python313\\lib\\site-packages (2.9.10)\n",
      "Collecting starlette<0.48.0,>=0.40.0 (from fastapi)\n",
      "  Downloading starlette-0.47.3-py3-none-any.whl.metadata (6.2 kB)\n",
      "Collecting pydantic!=1.8,!=1.8.1,!=2.0.0,!=2.0.1,!=2.1.0,<3.0.0,>=1.7.4 (from fastapi)\n",
      "  Downloading pydantic-2.11.7-py3-none-any.whl.metadata (67 kB)\n",
      "Requirement already satisfied: typing-extensions>=4.8.0 in c:\\users\\yanni\\appdata\\local\\programs\\python\\python313\\lib\\site-packages (from fastapi) (4.14.0)\n",
      "Collecting annotated-types>=0.6.0 (from pydantic!=1.8,!=1.8.1,!=2.0.0,!=2.0.1,!=2.1.0,<3.0.0,>=1.7.4->fastapi)\n",
      "  Downloading annotated_types-0.7.0-py3-none-any.whl.metadata (15 kB)\n",
      "Collecting pydantic-core==2.33.2 (from pydantic!=1.8,!=1.8.1,!=2.0.0,!=2.0.1,!=2.1.0,<3.0.0,>=1.7.4->fastapi)\n",
      "  Downloading pydantic_core-2.33.2-cp313-cp313-win_amd64.whl.metadata (6.9 kB)\n",
      "Collecting typing-inspection>=0.4.0 (from pydantic!=1.8,!=1.8.1,!=2.0.0,!=2.0.1,!=2.1.0,<3.0.0,>=1.7.4->fastapi)\n",
      "  Downloading typing_inspection-0.4.1-py3-none-any.whl.metadata (2.6 kB)\n",
      "Requirement already satisfied: anyio<5,>=3.6.2 in c:\\users\\yanni\\appdata\\local\\programs\\python\\python313\\lib\\site-packages (from starlette<0.48.0,>=0.40.0->fastapi) (4.9.0)\n",
      "Requirement already satisfied: idna>=2.8 in c:\\users\\yanni\\appdata\\local\\programs\\python\\python313\\lib\\site-packages (from anyio<5,>=3.6.2->starlette<0.48.0,>=0.40.0->fastapi) (3.10)\n",
      "Requirement already satisfied: sniffio>=1.1 in c:\\users\\yanni\\appdata\\local\\programs\\python\\python313\\lib\\site-packages (from anyio<5,>=3.6.2->starlette<0.48.0,>=0.40.0->fastapi) (1.3.1)\n",
      "Collecting click>=7.0 (from uvicorn)\n",
      "  Downloading click-8.2.1-py3-none-any.whl.metadata (2.5 kB)\n",
      "Requirement already satisfied: h11>=0.8 in c:\\users\\yanni\\appdata\\local\\programs\\python\\python313\\lib\\site-packages (from uvicorn) (0.16.0)\n",
      "Requirement already satisfied: colorama in c:\\users\\yanni\\appdata\\local\\programs\\python\\python313\\lib\\site-packages (from click>=7.0->uvicorn) (0.4.6)\n",
      "Downloading fastapi-0.116.1-py3-none-any.whl (95 kB)\n",
      "Downloading pydantic-2.11.7-py3-none-any.whl (444 kB)\n",
      "Downloading pydantic_core-2.33.2-cp313-cp313-win_amd64.whl (2.0 MB)\n",
      "   ---------------------------------------- 0.0/2.0 MB ? eta -:--:--\n",
      "   ---------------------------------------- 2.0/2.0 MB 22.8 MB/s  0:00:00\n",
      "Downloading starlette-0.47.3-py3-none-any.whl (72 kB)\n",
      "Downloading uvicorn-0.35.0-py3-none-any.whl (66 kB)\n",
      "Downloading annotated_types-0.7.0-py3-none-any.whl (13 kB)\n",
      "Downloading click-8.2.1-py3-none-any.whl (102 kB)\n",
      "Downloading typing_inspection-0.4.1-py3-none-any.whl (14 kB)\n",
      "Installing collected packages: typing-inspection, pydantic-core, click, annotated-types, uvicorn, starlette, pydantic, fastapi\n",
      "\n",
      "   ---------- ----------------------------- 2/8 [click]\n",
      "   -------------------- ------------------- 4/8 [uvicorn]\n",
      "   ------------------------- -------------- 5/8 [starlette]\n",
      "   ------------------------------ --------- 6/8 [pydantic]\n",
      "   ------------------------------ --------- 6/8 [pydantic]\n",
      "   ------------------------------ --------- 6/8 [pydantic]\n",
      "   ----------------------------------- ---- 7/8 [fastapi]\n",
      "   ----------------------------------- ---- 7/8 [fastapi]\n",
      "   ---------------------------------------- 8/8 [fastapi]\n",
      "\n",
      "Successfully installed annotated-types-0.7.0 click-8.2.1 fastapi-0.116.1 pydantic-2.11.7 pydantic-core-2.33.2 starlette-0.47.3 typing-inspection-0.4.1 uvicorn-0.35.0\n",
      "Note: you may need to restart the kernel to use updated packages.\n"
     ]
    }
   ],
   "source": [
    "pip install fastapi uvicorn psycopg2-binary"
   ]
  },
  {
   "cell_type": "code",
   "execution_count": 2,
   "id": "defb08bf-928e-4a24-90ec-400d1b4baebb",
   "metadata": {},
   "outputs": [
    {
     "name": "stderr",
     "output_type": "stream",
     "text": [
      "INFO:     Will watch for changes in these directories: ['C:\\\\Users\\\\yanni']\n",
      "INFO:     Uvicorn running on http://127.0.0.1:8000 (Press CTRL+C to quit)\n",
      "INFO:     Started reloader process [19108] using StatReload\n",
      "INFO:     Stopping reloader process [19108]\n"
     ]
    }
   ],
   "source": [
    "import uvicorn\n",
    "\n",
    "# main est ton fichier ou module contenant FastAPI\n",
    "# si tu as copié le code FastAPI dans une cellule, on peut l'appeler main = app\n",
    "# sinon tu importes : from main import app\n",
    "\n",
    "uvicorn.run(\"main:app\", host=\"127.0.0.1\", port=8000, reload=True)\n"
   ]
  },
  {
   "cell_type": "code",
   "execution_count": 3,
   "id": "adec3a74-062b-4a1b-aec3-54741a826477",
   "metadata": {},
   "outputs": [
    {
     "name": "stderr",
     "output_type": "stream",
     "text": [
      "INFO:     Will watch for changes in these directories: ['C:\\\\Users\\\\yanni']\n",
      "INFO:     Uvicorn running on http://127.0.0.1:8000 (Press CTRL+C to quit)\n",
      "INFO:     Started reloader process [19108] using StatReload\n",
      "WARNING:  StatReload detected changes in 'main.py'. Reloading...\n"
     ]
    },
    {
     "name": "stdout",
     "output_type": "stream",
     "text": [
      " "
     ]
    },
    {
     "name": "stderr",
     "output_type": "stream",
     "text": [
      "WARNING:  StatReload detected changes in 'main.py'. Reloading...\n"
     ]
    },
    {
     "name": "stdout",
     "output_type": "stream",
     "text": [
      " "
     ]
    },
    {
     "name": "stderr",
     "output_type": "stream",
     "text": [
      "INFO:     Stopping reloader process [19108]\n"
     ]
    }
   ],
   "source": [
    "import uvicorn\n",
    "\n",
    "# main est ton fichier ou module contenant FastAPI\n",
    "# si tu as copié le code FastAPI dans une cellule, on peut l'appeler main = app\n",
    "# sinon tu importes : from main import app\n",
    "\n",
    "uvicorn.run(\"main:app\", host=\"127.0.0.1\", port=8000, reload=True)"
   ]
  },
  {
   "cell_type": "code",
   "execution_count": 4,
   "id": "fe573406-25f5-4345-88a6-e439533be258",
   "metadata": {},
   "outputs": [
    {
     "name": "stderr",
     "output_type": "stream",
     "text": [
      "INFO:     Will watch for changes in these directories: ['C:\\\\Users\\\\yanni']\n",
      "INFO:     Uvicorn running on http://127.0.0.1:8000 (Press CTRL+C to quit)\n",
      "INFO:     Started reloader process [19108] using StatReload\n",
      "INFO:     Stopping reloader process [19108]\n"
     ]
    }
   ],
   "source": [
    "import uvicorn\n",
    "\n",
    "# main.py doit être dans le même répertoire\n",
    "uvicorn.run(\"main:app\", host=\"127.0.0.1\", port=8000, reload=True)\n"
   ]
  },
  {
   "cell_type": "code",
   "execution_count": 1,
   "id": "70da1dcb-2c8a-4c6b-8269-f42e2139ffbc",
   "metadata": {},
   "outputs": [
    {
     "ename": "NameError",
     "evalue": "name 'uvicorn' is not defined",
     "output_type": "error",
     "traceback": [
      "\u001b[31m---------------------------------------------------------------------------\u001b[39m",
      "\u001b[31mNameError\u001b[39m                                 Traceback (most recent call last)",
      "\u001b[36mCell\u001b[39m\u001b[36m \u001b[39m\u001b[32mIn[1]\u001b[39m\u001b[32m, line 1\u001b[39m\n\u001b[32m----> \u001b[39m\u001b[32m1\u001b[39m \u001b[43muvicorn\u001b[49m.run(\u001b[33m\"\u001b[39m\u001b[33mmain:app\u001b[39m\u001b[33m\"\u001b[39m, host=\u001b[33m\"\u001b[39m\u001b[33m127.0.0.1\u001b[39m\u001b[33m\"\u001b[39m, port=\u001b[32m8000\u001b[39m, reload=\u001b[38;5;28;01mTrue\u001b[39;00m)\n",
      "\u001b[31mNameError\u001b[39m: name 'uvicorn' is not defined"
     ]
    }
   ],
   "source": [
    "uvicorn.run(\"main:app\", host=\"127.0.0.1\", port=8000, reload=True)"
   ]
  },
  {
   "cell_type": "code",
   "execution_count": null,
   "id": "23f7d500-9089-4aaf-84c7-a001e864c6a2",
   "metadata": {},
   "outputs": [
    {
     "name": "stderr",
     "output_type": "stream",
     "text": [
      "INFO:     Will watch for changes in these directories: ['C:\\\\Users\\\\yanni']\n",
      "INFO:     Uvicorn running on http://127.0.0.1:8000 (Press CTRL+C to quit)\n",
      "INFO:     Started reloader process [11368] using StatReload\n"
     ]
    }
   ],
   "source": [
    "import uvicorn\n",
    "\n",
    "# main.py doit être dans le même répertoire\n",
    "uvicorn.run(\"main:app\", host=\"127.0.0.1\", port=8000, reload=True)"
   ]
  },
  {
   "cell_type": "code",
   "execution_count": 1,
   "id": "53db72b4-b6b3-4ad1-870e-c9a93ecd9a23",
   "metadata": {},
   "outputs": [
    {
     "ename": "SyntaxError",
     "evalue": "invalid syntax (3705617639.py, line 1)",
     "output_type": "error",
     "traceback": [
      "  \u001b[36mCell\u001b[39m\u001b[36m \u001b[39m\u001b[32mIn[1]\u001b[39m\u001b[32m, line 1\u001b[39m\n\u001b[31m    \u001b[39m\u001b[31muvicorn main:app --host 127.0.0.1 --port 8000 --reload\u001b[39m\n            ^\n\u001b[31mSyntaxError\u001b[39m\u001b[31m:\u001b[39m invalid syntax\n"
     ]
    }
   ],
   "source": [
    "uvicorn main:app --host 127.0.0.1 --port 8000 --reload"
   ]
  },
  {
   "cell_type": "code",
   "execution_count": 2,
   "id": "c873dede-4697-4d08-94b7-72b579d8ca4c",
   "metadata": {},
   "outputs": [
    {
     "ename": "SyntaxError",
     "evalue": "invalid syntax (3197960114.py, line 2)",
     "output_type": "error",
     "traceback": [
      "  \u001b[36mCell\u001b[39m\u001b[36m \u001b[39m\u001b[32mIn[2]\u001b[39m\u001b[32m, line 2\u001b[39m\n\u001b[31m    \u001b[39m\u001b[31muvicorn main:app --host 127.0.0.1 --port 8000 --reload\u001b[39m\n            ^\n\u001b[31mSyntaxError\u001b[39m\u001b[31m:\u001b[39m invalid syntax\n"
     ]
    }
   ],
   "source": [
    "import uvicorn\n",
    "uvicorn main:app --host 127.0.0.1 --port 8000 --reload"
   ]
  },
  {
   "cell_type": "code",
   "execution_count": null,
   "id": "24afa58e-3f74-4715-afb2-29ac5475f3e3",
   "metadata": {},
   "outputs": [
    {
     "name": "stderr",
     "output_type": "stream",
     "text": [
      "INFO:     Will watch for changes in these directories: ['C:\\\\Users\\\\yanni']\n",
      "INFO:     Uvicorn running on http://127.0.0.1:8000 (Press CTRL+C to quit)\n",
      "INFO:     Started reloader process [17084] using StatReload\n"
     ]
    }
   ],
   "source": [
    "import uvicorn\n",
    "\n",
    "uvicorn.run(\"main:app\", host=\"127.0.0.1\", port=8000, reload=True)"
   ]
  },
  {
   "cell_type": "code",
   "execution_count": null,
   "id": "5164faba-10fb-48f5-b968-8341667215c6",
   "metadata": {},
   "outputs": [
    {
     "name": "stderr",
     "output_type": "stream",
     "text": [
      "INFO:     Will watch for changes in these directories: ['C:\\\\Users\\\\yanni']\n",
      "INFO:     Uvicorn running on http://127.0.0.1:8000 (Press CTRL+C to quit)\n",
      "INFO:     Started reloader process [32312] using StatReload\n"
     ]
    }
   ],
   "source": [
    "import uvicorn\n",
    "\n",
    "uvicorn.run(\"main:app\", host=\"127.0.0.1\", port=8000, reload=True)"
   ]
  },
  {
   "cell_type": "code",
   "execution_count": null,
   "id": "c6f5a1a0-c17d-4067-afd4-6a8b471e9153",
   "metadata": {},
   "outputs": [],
   "source": []
  }
 ],
 "metadata": {
  "kernelspec": {
   "display_name": "Python 3 (ipykernel)",
   "language": "python",
   "name": "python3"
  },
  "language_info": {
   "codemirror_mode": {
    "name": "ipython",
    "version": 3
   },
   "file_extension": ".py",
   "mimetype": "text/x-python",
   "name": "python",
   "nbconvert_exporter": "python",
   "pygments_lexer": "ipython3",
   "version": "3.13.5"
  }
 },
 "nbformat": 4,
 "nbformat_minor": 5
}
